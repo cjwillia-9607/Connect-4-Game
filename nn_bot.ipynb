{
 "cells": [
  {
   "cell_type": "markdown",
   "metadata": {},
   "source": [
    "## 1. Import"
   ]
  },
  {
   "cell_type": "code",
   "execution_count": 2,
   "metadata": {},
   "outputs": [],
   "source": [
    "import numpy as np\n",
    "import tensorflow as tf\n",
    "from tensorflow.keras.models import Sequential\n",
    "from tensorflow.keras.layers import Dense\n",
    "from tensorflow.keras.optimizers import Adam\n",
    "import random\n",
    "\n"
   ]
  },
  {
   "cell_type": "code",
   "execution_count": 15,
   "metadata": {},
   "outputs": [],
   "source": [
    "import importlib\n",
    "import connect_four\n",
    "import random_bot\n",
    "import logic_bot\n",
    "importlib.reload(connect_four)\n",
    "importlib.reload(random_bot)\n",
    "importlib.reload(logic_bot)\n",
    "from connect_four import ConnectFour\n",
    "from random_bot import RandomBot\n",
    "from logic_bot import LogicBot"
   ]
  },
  {
   "cell_type": "markdown",
   "metadata": {},
   "source": [
    "## 2. NN Bot Class"
   ]
  },
  {
   "cell_type": "code",
   "execution_count": 16,
   "metadata": {},
   "outputs": [],
   "source": [
    "import nn_bot\n",
    "importlib.reload(nn_bot)\n",
    "from nn_bot import NeuralNetworkBot\n"
   ]
  },
  {
   "cell_type": "markdown",
   "metadata": {},
   "source": [
    "## Functions"
   ]
  },
  {
   "cell_type": "code",
   "execution_count": 4,
   "metadata": {},
   "outputs": [],
   "source": [
    "def initialize_population(population_size, piece):\n",
    "    return [NeuralNetworkBot(piece) for _ in range(population_size)]"
   ]
  },
  {
   "cell_type": "code",
   "execution_count": 5,
   "metadata": {},
   "outputs": [],
   "source": [
    "def evaluate_fitness(bot, opponents, games=10):\n",
    "    fitness = 0\n",
    "    opponent = random.choice(opponents)\n",
    "    for _ in range(games):\n",
    "        game = ConnectFour()\n",
    "        while game.state == 'UNFINISHED':\n",
    "            col = bot.choose_column(game)\n",
    "            game.insert(col, bot.piece)\n",
    "            if game.state != 'UNFINISHED':\n",
    "                fitness += 1 if game.state == bot.piece + '_WON' else 0\n",
    "                fitness += -1 if game.state == 'DRAW' else 0\n",
    "                break\n",
    "\n",
    "            col = opponent.choose_column(game)\n",
    "            game.insert(col, opponent.piece)\n",
    "            if game.state != 'UNFINISHED':\n",
    "                fitness += -2 if game.state == opponent.piece + '_WON' else 0\n",
    "                fitness += -1 if game.state == 'DRAW' else 0\n",
    "                break\n",
    "    return fitness"
   ]
  },
  {
   "cell_type": "code",
   "execution_count": 6,
   "metadata": {},
   "outputs": [],
   "source": [
    "def select_top_performers(population, fitnesses, num_top):\n",
    "    sorted_indices = np.argsort(fitnesses)[::-1]\n",
    "    return [population[i] for i in sorted_indices[:num_top]]"
   ]
  },
  {
   "cell_type": "code",
   "execution_count": 7,
   "metadata": {},
   "outputs": [],
   "source": [
    "def generate_new_population(top_performers, population_size, mutation_rate=0.01):\n",
    "    new_population = []\n",
    "    while len(new_population) < population_size:\n",
    "        if len(top_performers) > 1:\n",
    "            parent1, parent2 = random.sample(top_performers, 2)\n",
    "        else:\n",
    "            parent1 = parent2 = top_performers[0]\n",
    "        child = parent1.crossover(parent2)\n",
    "        child.mutate(mutation_rate)\n",
    "        new_population.append(child)\n",
    "    return new_population"
   ]
  },
  {
   "cell_type": "code",
   "execution_count": 8,
   "metadata": {},
   "outputs": [],
   "source": [
    "# def train_evolutionary(population_size=50, generations=100, num_top=10, mutation_rate=0.01, games_per_fitness=10):\n",
    "#     population = initialize_population(population_size, 'X')\n",
    "#     opponent = RandomBot('O')\n",
    "\n",
    "#     for generation in range(generations):\n",
    "#         fitnesses = [evaluate_fitness(bot, opponent, games_per_fitness) for bot in population]\n",
    "#         top_performers = select_top_performers(population, fitnesses, num_top)\n",
    "#         population = generate_new_population(top_performers, population_size, mutation_rate)\n",
    "#         print(f'Generation {generation + 1}, Best Fitness: {max(fitnesses)}')\n",
    "\n",
    "#     return population\n",
    "def train_evolutionary(population_size=50, generations=100, games_per_fitness=10, num_top=10, mutation_rate=0.01, opponent=None):\n",
    "    # Initialize population with random bots\n",
    "    populations = []\n",
    "    population = [NeuralNetworkBot('X') for _ in range(population_size)]\n",
    "    if not opponent:\n",
    "        opponent = RandomBot('O')\n",
    "    previous_top_performers = None\n",
    "    populations.append(population)\n",
    "\n",
    "    for generation in range(generations):\n",
    "        fitnesses = [evaluate_fitness(bot, [opponent], games_per_fitness) for bot in population]\n",
    "\n",
    "        if previous_top_performers:\n",
    "            fitnesses_prev = [evaluate_fitness(bot, previous_top_performers, games_per_fitness // 2) for bot in population]\n",
    "            fitnesses = [f1 + f2 for f1, f2 in zip(fitnesses, fitnesses_prev)]\n",
    "\n",
    "        top_performers = select_top_performers(population, fitnesses, num_top)\n",
    "        previous_top_performers = top_performers\n",
    "\n",
    "        population = generate_new_population(top_performers, population_size, mutation_rate)\n",
    "        populations.append(population)\n",
    "        print(f\"Generation {generation}: Best fitness = {max(fitnesses)}\")\n",
    "\n",
    "    return populations"
   ]
  },
  {
   "cell_type": "code",
   "execution_count": 9,
   "metadata": {},
   "outputs": [],
   "source": [
    "# parallel version\n",
    "from concurrent.futures import ProcessPoolExecutor\n",
    "\n",
    "def evaluate_fitness_parallel(args):\n",
    "    return evaluate_fitness(*args)\n",
    "\n",
    "def train_parallel_evolutionary(population_size=20, generations=100, games_per_fitness=20, num_top=5, mutation_rate=0.05, opponent=None):\n",
    "    population = [NeuralNetworkBot('X') for _ in range(population_size)]\n",
    "    if not opponent:\n",
    "        opponent = RandomBot('O')\n",
    "    previous_top_performers = None\n",
    "    best_fitness_over_generations = []\n",
    "\n",
    "    with ProcessPoolExecutor() as executor:\n",
    "        for generation in range(generations):\n",
    "            fitness_args = [(bot, opponent, games_per_fitness) for bot in population]\n",
    "            fitnesses = list(executor.map(evaluate_fitness_parallel, fitness_args))\n",
    "\n",
    "            if previous_top_performers:\n",
    "                fitness_args_prev = [(bot, previous_top_performers, games_per_fitness // 2) for bot in population]\n",
    "                fitnesses_prev = list(executor.map(evaluate_fitness_parallel, fitness_args_prev))\n",
    "                fitnesses = [f1 + f2 for f1, f2 in zip(fitnesses, fitnesses_prev)]\n",
    "\n",
    "            top_performers = select_top_performers(population, fitnesses, num_top)\n",
    "            previous_top_performers = top_performers\n",
    "            population = generate_new_population(top_performers, population_size, mutation_rate)\n",
    "            best_fitness = max(fitnesses)\n",
    "            best_fitness_over_generations.append(best_fitness)\n",
    "            print(f\"Generation {generation}: Best fitness = {best_fitness}\")\n",
    "\n",
    "    return population, best_fitness_over_generations"
   ]
  },
  {
   "cell_type": "code",
   "execution_count": 22,
   "metadata": {},
   "outputs": [
    {
     "name": "stdout",
     "output_type": "stream",
     "text": [
      "Generation 0: Best fitness = -25\n",
      "Generation 1: Best fitness = -18\n",
      "Generation 2: Best fitness = -9\n",
      "Generation 3: Best fitness = -12\n",
      "Generation 4: Best fitness = -12\n",
      "Generation 5: Best fitness = -12\n",
      "Generation 6: Best fitness = -12\n",
      "Generation 7: Best fitness = 0\n",
      "Generation 8: Best fitness = -12\n",
      "Generation 9: Best fitness = -6\n"
     ]
    }
   ],
   "source": [
    "model_path = r\"C:\\Users\\storm\\Documents\\GitHub\\Connect4\\Connect-4-Game\\models\\2024-05-25-13-15\\gen10_model15.keras\"\n",
    "NeuralNetworkBot('O', tf.keras.models.load_model(model_path))\n",
    "trained_populations = train_evolutionary(population_size=50, generations=10, games_per_fitness=20, num_top=10, mutation_rate=0.01, opponent=LogicBot('O'))"
   ]
  },
  {
   "cell_type": "code",
   "execution_count": 13,
   "metadata": {},
   "outputs": [
    {
     "name": "stderr",
     "output_type": "stream",
     "text": [
      "c:\\Users\\storm\\Documents\\GitHub\\Connect4\\Connect-4-Game\\.venv\\lib\\site-packages\\keras\\src\\layers\\core\\dense.py:87: UserWarning: Do not pass an `input_shape`/`input_dim` argument to a layer. When using Sequential models, prefer using an `Input(shape)` object as the first layer in the model instead.\n",
      "  super().__init__(activity_regularizer=activity_regularizer, **kwargs)\n"
     ]
    }
   ],
   "source": [
    "trained_populations = train_parallel_evolutionary(population_size=50, generations=5, games_per_fitness=20, num_top=10, mutation_rate=0.01, opponent=LogicBot('O'))"
   ]
  },
  {
   "cell_type": "code",
   "execution_count": 23,
   "metadata": {},
   "outputs": [],
   "source": [
    "import os\n",
    "from datetime import datetime\n",
    "\n",
    "now = datetime.now()\n",
    "dir_name = os.path.join('models', now.strftime(\"%Y-%m-%d-%H-%M\"))\n",
    "\n",
    "os.makedirs(dir_name, exist_ok=True)\n",
    "for generation, population in enumerate(trained_populations):\n",
    "    for ind, bot in enumerate(population):\n",
    "        model_path = os.path.join(dir_name, f'gen{generation}_model{ind}.keras')\n",
    "        bot.model.save(model_path)\n"
   ]
  },
  {
   "cell_type": "code",
   "execution_count": null,
   "metadata": {},
   "outputs": [],
   "source": []
  }
 ],
 "metadata": {
  "kernelspec": {
   "display_name": ".venv",
   "language": "python",
   "name": "python3"
  },
  "language_info": {
   "codemirror_mode": {
    "name": "ipython",
    "version": 3
   },
   "file_extension": ".py",
   "mimetype": "text/x-python",
   "name": "python",
   "nbconvert_exporter": "python",
   "pygments_lexer": "ipython3",
   "version": "3.9.7"
  }
 },
 "nbformat": 4,
 "nbformat_minor": 2
}
