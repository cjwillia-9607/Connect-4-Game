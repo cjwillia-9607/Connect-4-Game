{
 "cells": [
  {
   "cell_type": "markdown",
   "metadata": {},
   "source": [
    "## 1. Import"
   ]
  },
  {
   "cell_type": "code",
   "execution_count": 22,
   "metadata": {},
   "outputs": [],
   "source": [
    "import numpy as np\n",
    "import tensorflow as tf\n",
    "from tensorflow.keras.models import Sequential\n",
    "from tensorflow.keras.layers import Dense\n",
    "from tensorflow.keras.optimizers import Adam\n",
    "import random\n",
    "from connect_four import ConnectFour\n",
    "from random_bot import RandomBot"
   ]
  },
  {
   "cell_type": "markdown",
   "metadata": {},
   "source": [
    "## 2. NN Bot Class"
   ]
  },
  {
   "cell_type": "code",
   "execution_count": 24,
   "metadata": {},
   "outputs": [],
   "source": [
    "class NeuralNetworkBot:\n",
    "    def __init__(self, piece, model=None):\n",
    "        self.piece = piece\n",
    "        self.model = model or self.build_model()\n",
    "\n",
    "    def build_model(self):\n",
    "        model = Sequential([\n",
    "            Dense(64, input_dim=7 * 6, activation='relu'),\n",
    "            Dense(64, activation='relu'),\n",
    "            Dense(7, activation='linear')\n",
    "        ])\n",
    "        model.compile(optimizer=Adam(), loss='mse')\n",
    "        return model\n",
    "    \n",
    "    def convert_board(self, board):\n",
    "        piece_to_number = {' ': 0, 'X': 1, 'O': -1}\n",
    "        return np.array([piece_to_number[cell] for cell in board]).reshape(1, -1)\n",
    "\n",
    "    def choose_column(self, game):\n",
    "        state = self.convert_board(game.board)\n",
    "        q_values = self.model.predict(state, verbose=0)\n",
    "        available_columns = [c for c in range(game.width) if game.board[c] == ' ']\n",
    "        q_values[0, [c for c in range(game.width) if c not in available_columns]] = -np.inf\n",
    "        return np.argmax(q_values)\n",
    "    \n",
    "    def mutate(self, mutation_rate=0.01):\n",
    "        weights = self.model.get_weights()\n",
    "        new_weights = []\n",
    "        for weight in weights:\n",
    "            if np.ndim(weight) == 1:\n",
    "                new_weights.append(weight + mutation_rate * np.random.randn(*weight.shape))\n",
    "            else:\n",
    "                new_weights.append(weight + mutation_rate * np.random.randn(*weight.shape))\n",
    "        self.model.set_weights(new_weights)\n",
    "\n",
    "    def crossover(self, other):\n",
    "        new_model = self.build_model()\n",
    "        new_weights = []\n",
    "        weights1 = self.model.get_weights()\n",
    "        weights2 = other.model.get_weights()\n",
    "        for w1, w2 in zip(weights1, weights2):\n",
    "            mask = np.random.rand(*w1.shape) > 0.5\n",
    "            new_weights.append(np.where(mask, w1, w2))\n",
    "        new_model.set_weights(new_weights)\n",
    "        return NeuralNetworkBot(self.piece, new_model)"
   ]
  },
  {
   "cell_type": "markdown",
   "metadata": {},
   "source": [
    "## Functions"
   ]
  },
  {
   "cell_type": "code",
   "execution_count": 3,
   "metadata": {},
   "outputs": [],
   "source": [
    "def initialize_population(population_size, piece):\n",
    "    return [NeuralNetworkBot(piece) for _ in range(population_size)]"
   ]
  },
  {
   "cell_type": "code",
   "execution_count": 5,
   "metadata": {},
   "outputs": [],
   "source": [
    "def evaluate_fitness(bot, opponent, games=10):\n",
    "    fitness = 0\n",
    "    for _ in range(games):\n",
    "        game = ConnectFour()\n",
    "        while game.state == 'UNFINISHED':\n",
    "            col = bot.choose_column(game)\n",
    "            game.insert(col, bot.piece)\n",
    "            if game.state != 'UNFINISHED':\n",
    "                fitness += 1 if game.state == bot.piece + '_WON' else 0\n",
    "                break\n",
    "\n",
    "            col = opponent.choose_column(game)\n",
    "            game.insert(col, opponent.piece)\n",
    "            if game.state != 'UNFINISHED':\n",
    "                fitness += -1 if game.state == opponent.piece + '_WON' else 0\n",
    "                break\n",
    "    return fitness"
   ]
  },
  {
   "cell_type": "code",
   "execution_count": 6,
   "metadata": {},
   "outputs": [],
   "source": [
    "def select_top_performers(population, fitnesses, num_top):\n",
    "    sorted_indices = np.argsort(fitnesses)[::-1]\n",
    "    return [population[i] for i in sorted_indices[:num_top]]"
   ]
  },
  {
   "cell_type": "code",
   "execution_count": 7,
   "metadata": {},
   "outputs": [],
   "source": [
    "def generate_new_population(top_performers, population_size, mutation_rate=0.01):\n",
    "    new_population = []\n",
    "    while len(new_population) < population_size:\n",
    "        parent1, parent2 = random.sample(top_performers, 2)\n",
    "        child = parent1.crossover(parent2)\n",
    "        child.mutate(mutation_rate)\n",
    "        new_population.append(child)\n",
    "    return new_population"
   ]
  },
  {
   "cell_type": "code",
   "execution_count": 9,
   "metadata": {},
   "outputs": [],
   "source": [
    "def train_evolutionary(population_size=50, generations=100, num_top=10, mutation_rate=0.01, games_per_fitness=10):\n",
    "    population = initialize_population(population_size, 'X')\n",
    "    opponent = RandomBot('O')\n",
    "\n",
    "    for generation in range(generations):\n",
    "        fitnesses = [evaluate_fitness(bot, opponent, games_per_fitness) for bot in population]\n",
    "        top_performers = select_top_performers(population, fitnesses, num_top)\n",
    "        population = generate_new_population(top_performers, population_size, mutation_rate)\n",
    "        print(f'Generation {generation + 1}, Best Fitness: {max(fitnesses)}')\n",
    "\n",
    "    return population"
   ]
  },
  {
   "cell_type": "code",
   "execution_count": 25,
   "metadata": {},
   "outputs": [
    {
     "name": "stdout",
     "output_type": "stream",
     "text": [
      "Generation 1, Best Fitness: 10\n"
     ]
    }
   ],
   "source": [
    "trained_population = train_evolutionary()"
   ]
  }
 ],
 "metadata": {
  "kernelspec": {
   "display_name": ".venv",
   "language": "python",
   "name": "python3"
  },
  "language_info": {
   "codemirror_mode": {
    "name": "ipython",
    "version": 3
   },
   "file_extension": ".py",
   "mimetype": "text/x-python",
   "name": "python",
   "nbconvert_exporter": "python",
   "pygments_lexer": "ipython3",
   "version": "3.9.7"
  }
 },
 "nbformat": 4,
 "nbformat_minor": 2
}
